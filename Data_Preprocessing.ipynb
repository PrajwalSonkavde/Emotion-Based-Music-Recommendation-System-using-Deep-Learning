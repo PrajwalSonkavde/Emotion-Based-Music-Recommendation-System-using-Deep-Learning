{
 "cells": [
  {
   "cell_type": "code",
   "execution_count": 1,
   "id": "5a3c59ac",
   "metadata": {},
   "outputs": [],
   "source": [
    "import tensorflow as tf\n",
    "from tensorflow import keras\n",
    "from keras.utils import to_categorical\n",
    "from keras.preprocessing.image import load_img\n",
    "from keras.layers import Dense, Conv2D, Dropout, Flatten, MaxPooling2D\n",
    "from keras.models import Sequential\n",
    "from keras.optimizers import Adam\n",
    "from keras.callbacks import LearningRateScheduler\n",
    "import os\n",
    "import pandas as pd\n",
    "import numpy as np\n",
    "from tqdm import tqdm\n",
    "import pickle"
   ]
  },
  {
   "cell_type": "code",
   "execution_count": 2,
   "id": "34ca405c",
   "metadata": {},
   "outputs": [],
   "source": [
    "TRAIN_DIR='images/train'\n",
    "TEST_DIR='images/test'"
   ]
  },
  {
   "cell_type": "code",
   "execution_count": 3,
   "id": "ac8d174d",
   "metadata": {},
   "outputs": [],
   "source": [
    "def createdframe(dir):\n",
    "    image_paths=[]\n",
    "    labels=[]\n",
    "    for label in os.listdir(dir):\n",
    "        for imagename in os.listdir(os.path.join(dir,label)):\n",
    "            image_paths.append(os.path.join(dir,label,imagename))\n",
    "            labels.append(label)\n",
    "        print(label,\"completed\")\n",
    "    return image_paths,labels"
   ]
  },
  {
   "cell_type": "code",
   "execution_count": 4,
   "id": "6bd4f64e",
   "metadata": {},
   "outputs": [
    {
     "name": "stdout",
     "output_type": "stream",
     "text": [
      "angry completed\n",
      "disgust completed\n",
      "fear completed\n",
      "happy completed\n",
      "neutral completed\n",
      "sad completed\n",
      "surprise completed\n"
     ]
    }
   ],
   "source": [
    "train=pd.DataFrame()\n",
    "train['image'],train['label']=createdframe(TRAIN_DIR)"
   ]
  },
  {
   "cell_type": "code",
   "execution_count": 5,
   "id": "3b3a7e61",
   "metadata": {},
   "outputs": [
    {
     "name": "stdout",
     "output_type": "stream",
     "text": [
      "                                image     label\n",
      "0            images/train\\angry\\0.jpg     angry\n",
      "1            images/train\\angry\\1.jpg     angry\n",
      "2           images/train\\angry\\10.jpg     angry\n",
      "3        images/train\\angry\\10002.jpg     angry\n",
      "4        images/train\\angry\\10016.jpg     angry\n",
      "...                               ...       ...\n",
      "28816  images/train\\surprise\\9969.jpg  surprise\n",
      "28817  images/train\\surprise\\9985.jpg  surprise\n",
      "28818  images/train\\surprise\\9990.jpg  surprise\n",
      "28819  images/train\\surprise\\9992.jpg  surprise\n",
      "28820  images/train\\surprise\\9996.jpg  surprise\n",
      "\n",
      "[28821 rows x 2 columns]\n"
     ]
    }
   ],
   "source": [
    "print(train)"
   ]
  },
  {
   "cell_type": "code",
   "execution_count": 6,
   "id": "e913f798",
   "metadata": {},
   "outputs": [
    {
     "name": "stdout",
     "output_type": "stream",
     "text": [
      "angry completed\n",
      "disgust completed\n",
      "fear completed\n",
      "happy completed\n",
      "neutral completed\n",
      "sad completed\n",
      "surprise completed\n"
     ]
    }
   ],
   "source": [
    "test=pd.DataFrame()\n",
    "test['image'],test['label']=createdframe(TEST_DIR)"
   ]
  },
  {
   "cell_type": "code",
   "execution_count": 7,
   "id": "3af9a911",
   "metadata": {},
   "outputs": [
    {
     "name": "stdout",
     "output_type": "stream",
     "text": [
      "                              image     label\n",
      "0       images/test\\angry\\10052.jpg     angry\n",
      "1       images/test\\angry\\10065.jpg     angry\n",
      "2       images/test\\angry\\10079.jpg     angry\n",
      "3       images/test\\angry\\10095.jpg     angry\n",
      "4       images/test\\angry\\10121.jpg     angry\n",
      "...                             ...       ...\n",
      "7033  images/test\\surprise\\9806.jpg  surprise\n",
      "7034  images/test\\surprise\\9830.jpg  surprise\n",
      "7035  images/test\\surprise\\9853.jpg  surprise\n",
      "7036  images/test\\surprise\\9878.jpg  surprise\n",
      "7037   images/test\\surprise\\993.jpg  surprise\n",
      "\n",
      "[7038 rows x 2 columns]\n"
     ]
    }
   ],
   "source": [
    "print(test)"
   ]
  },
  {
   "cell_type": "code",
   "execution_count": 8,
   "id": "3986c350",
   "metadata": {},
   "outputs": [],
   "source": [
    "def extract_features(images):\n",
    "    feature=[]\n",
    "    for image in tqdm(images):\n",
    "        img=load_img(image,color_mode=\"grayscale\")\n",
    "        img=load_img(image,grayscale=True)\n",
    "        img=np.array(img)\n",
    "        feature.append(img)\n",
    "    feature=np.array(feature)\n",
    "    feature=feature.reshape(len(feature),48,48,1)\n",
    "    return feature"
   ]
  },
  {
   "cell_type": "code",
   "execution_count": 9,
   "id": "17e25819",
   "metadata": {},
   "outputs": [
    {
     "name": "stderr",
     "output_type": "stream",
     "text": [
      "  0%|          | 0/28821 [00:00<?, ?it/s]C:\\Users\\prajw\\anaconda3\\envs\\tf\\lib\\site-packages\\keras\\src\\utils\\image_utils.py:409: UserWarning: grayscale is deprecated. Please use color_mode = \"grayscale\"\n",
      "  warnings.warn(\n",
      "100%|██████████| 28821/28821 [00:22<00:00, 1288.23it/s]\n"
     ]
    }
   ],
   "source": [
    "train_features=extract_features(train['image'])"
   ]
  },
  {
   "cell_type": "code",
   "execution_count": 10,
   "id": "4e7cd403",
   "metadata": {
    "scrolled": true
   },
   "outputs": [
    {
     "name": "stderr",
     "output_type": "stream",
     "text": [
      "100%|██████████| 7038/7038 [00:05<00:00, 1363.62it/s]\n"
     ]
    }
   ],
   "source": [
    "test_features=extract_features(test['image'])"
   ]
  },
  {
   "cell_type": "code",
   "execution_count": 11,
   "id": "d7643886",
   "metadata": {},
   "outputs": [],
   "source": [
    "x_train=train_features/255.0\n",
    "x_test=test_features/255.0"
   ]
  },
  {
   "cell_type": "code",
   "execution_count": 12,
   "id": "b81aa701",
   "metadata": {},
   "outputs": [],
   "source": [
    "from sklearn.preprocessing import LabelEncoder"
   ]
  },
  {
   "cell_type": "code",
   "execution_count": 13,
   "id": "3b4c8272",
   "metadata": {},
   "outputs": [
    {
     "data": {
      "text/html": [
       "<style>#sk-container-id-1 {color: black;}#sk-container-id-1 pre{padding: 0;}#sk-container-id-1 div.sk-toggleable {background-color: white;}#sk-container-id-1 label.sk-toggleable__label {cursor: pointer;display: block;width: 100%;margin-bottom: 0;padding: 0.3em;box-sizing: border-box;text-align: center;}#sk-container-id-1 label.sk-toggleable__label-arrow:before {content: \"▸\";float: left;margin-right: 0.25em;color: #696969;}#sk-container-id-1 label.sk-toggleable__label-arrow:hover:before {color: black;}#sk-container-id-1 div.sk-estimator:hover label.sk-toggleable__label-arrow:before {color: black;}#sk-container-id-1 div.sk-toggleable__content {max-height: 0;max-width: 0;overflow: hidden;text-align: left;background-color: #f0f8ff;}#sk-container-id-1 div.sk-toggleable__content pre {margin: 0.2em;color: black;border-radius: 0.25em;background-color: #f0f8ff;}#sk-container-id-1 input.sk-toggleable__control:checked~div.sk-toggleable__content {max-height: 200px;max-width: 100%;overflow: auto;}#sk-container-id-1 input.sk-toggleable__control:checked~label.sk-toggleable__label-arrow:before {content: \"▾\";}#sk-container-id-1 div.sk-estimator input.sk-toggleable__control:checked~label.sk-toggleable__label {background-color: #d4ebff;}#sk-container-id-1 div.sk-label input.sk-toggleable__control:checked~label.sk-toggleable__label {background-color: #d4ebff;}#sk-container-id-1 input.sk-hidden--visually {border: 0;clip: rect(1px 1px 1px 1px);clip: rect(1px, 1px, 1px, 1px);height: 1px;margin: -1px;overflow: hidden;padding: 0;position: absolute;width: 1px;}#sk-container-id-1 div.sk-estimator {font-family: monospace;background-color: #f0f8ff;border: 1px dotted black;border-radius: 0.25em;box-sizing: border-box;margin-bottom: 0.5em;}#sk-container-id-1 div.sk-estimator:hover {background-color: #d4ebff;}#sk-container-id-1 div.sk-parallel-item::after {content: \"\";width: 100%;border-bottom: 1px solid gray;flex-grow: 1;}#sk-container-id-1 div.sk-label:hover label.sk-toggleable__label {background-color: #d4ebff;}#sk-container-id-1 div.sk-serial::before {content: \"\";position: absolute;border-left: 1px solid gray;box-sizing: border-box;top: 0;bottom: 0;left: 50%;z-index: 0;}#sk-container-id-1 div.sk-serial {display: flex;flex-direction: column;align-items: center;background-color: white;padding-right: 0.2em;padding-left: 0.2em;position: relative;}#sk-container-id-1 div.sk-item {position: relative;z-index: 1;}#sk-container-id-1 div.sk-parallel {display: flex;align-items: stretch;justify-content: center;background-color: white;position: relative;}#sk-container-id-1 div.sk-item::before, #sk-container-id-1 div.sk-parallel-item::before {content: \"\";position: absolute;border-left: 1px solid gray;box-sizing: border-box;top: 0;bottom: 0;left: 50%;z-index: -1;}#sk-container-id-1 div.sk-parallel-item {display: flex;flex-direction: column;z-index: 1;position: relative;background-color: white;}#sk-container-id-1 div.sk-parallel-item:first-child::after {align-self: flex-end;width: 50%;}#sk-container-id-1 div.sk-parallel-item:last-child::after {align-self: flex-start;width: 50%;}#sk-container-id-1 div.sk-parallel-item:only-child::after {width: 0;}#sk-container-id-1 div.sk-dashed-wrapped {border: 1px dashed gray;margin: 0 0.4em 0.5em 0.4em;box-sizing: border-box;padding-bottom: 0.4em;background-color: white;}#sk-container-id-1 div.sk-label label {font-family: monospace;font-weight: bold;display: inline-block;line-height: 1.2em;}#sk-container-id-1 div.sk-label-container {text-align: center;}#sk-container-id-1 div.sk-container {/* jupyter's `normalize.less` sets `[hidden] { display: none; }` but bootstrap.min.css set `[hidden] { display: none !important; }` so we also need the `!important` here to be able to override the default hidden behavior on the sphinx rendered scikit-learn.org. See: https://github.com/scikit-learn/scikit-learn/issues/21755 */display: inline-block !important;position: relative;}#sk-container-id-1 div.sk-text-repr-fallback {display: none;}</style><div id=\"sk-container-id-1\" class=\"sk-top-container\"><div class=\"sk-text-repr-fallback\"><pre>LabelEncoder()</pre><b>In a Jupyter environment, please rerun this cell to show the HTML representation or trust the notebook. <br />On GitHub, the HTML representation is unable to render, please try loading this page with nbviewer.org.</b></div><div class=\"sk-container\" hidden><div class=\"sk-item\"><div class=\"sk-estimator sk-toggleable\"><input class=\"sk-toggleable__control sk-hidden--visually\" id=\"sk-estimator-id-1\" type=\"checkbox\" checked><label for=\"sk-estimator-id-1\" class=\"sk-toggleable__label sk-toggleable__label-arrow\">LabelEncoder</label><div class=\"sk-toggleable__content\"><pre>LabelEncoder()</pre></div></div></div></div></div>"
      ],
      "text/plain": [
       "LabelEncoder()"
      ]
     },
     "execution_count": 13,
     "metadata": {},
     "output_type": "execute_result"
    }
   ],
   "source": [
    "le=LabelEncoder()\n",
    "le.fit(train['label'])"
   ]
  },
  {
   "cell_type": "code",
   "execution_count": 14,
   "id": "8d11fa19",
   "metadata": {},
   "outputs": [],
   "source": [
    "y_train=le.transform(train['label'])\n",
    "y_test=le.transform(test['label'])"
   ]
  },
  {
   "cell_type": "code",
   "execution_count": 15,
   "id": "f8da149e",
   "metadata": {},
   "outputs": [],
   "source": [
    "y_train=to_categorical(y_train,num_classes=7)\n",
    "y_test=to_categorical(y_test,num_classes=7)"
   ]
  },
  {
   "cell_type": "code",
   "execution_count": 16,
   "id": "4d36b5be",
   "metadata": {},
   "outputs": [
    {
     "data": {
      "text/plain": [
       "28821"
      ]
     },
     "execution_count": 16,
     "metadata": {},
     "output_type": "execute_result"
    }
   ],
   "source": [
    "len(y_train)"
   ]
  },
  {
   "cell_type": "code",
   "execution_count": 17,
   "id": "0974fe46",
   "metadata": {},
   "outputs": [
    {
     "data": {
      "text/plain": [
       "array([[1., 0., 0., ..., 0., 0., 0.],\n",
       "       [1., 0., 0., ..., 0., 0., 0.],\n",
       "       [1., 0., 0., ..., 0., 0., 0.],\n",
       "       ...,\n",
       "       [0., 0., 0., ..., 0., 0., 1.],\n",
       "       [0., 0., 0., ..., 0., 0., 1.],\n",
       "       [0., 0., 0., ..., 0., 0., 1.]], dtype=float32)"
      ]
     },
     "execution_count": 17,
     "metadata": {},
     "output_type": "execute_result"
    }
   ],
   "source": [
    "y_train "
   ]
  },
  {
   "cell_type": "code",
   "execution_count": 18,
   "id": "8adf3fca",
   "metadata": {},
   "outputs": [
    {
     "data": {
      "text/plain": [
       "array([[1., 0., 0., ..., 0., 0., 0.],\n",
       "       [1., 0., 0., ..., 0., 0., 0.],\n",
       "       [1., 0., 0., ..., 0., 0., 0.],\n",
       "       ...,\n",
       "       [0., 0., 0., ..., 0., 0., 1.],\n",
       "       [0., 0., 0., ..., 0., 0., 1.],\n",
       "       [0., 0., 0., ..., 0., 0., 1.]], dtype=float32)"
      ]
     },
     "execution_count": 18,
     "metadata": {},
     "output_type": "execute_result"
    }
   ],
   "source": [
    "y_test"
   ]
  },
  {
   "cell_type": "code",
   "execution_count": 19,
   "id": "5a8cef2a",
   "metadata": {},
   "outputs": [],
   "source": [
    "num_features=y_test.shape[1]"
   ]
  },
  {
   "cell_type": "code",
   "execution_count": 20,
   "id": "9f48405b",
   "metadata": {},
   "outputs": [
    {
     "name": "stdout",
     "output_type": "stream",
     "text": [
      "Epoch 1/150\n",
      "451/451 [==============================] - 119s 260ms/step - loss: 1.8128 - accuracy: 0.2499 - val_loss: 1.7497 - val_accuracy: 0.3171 - lr: 1.0000e-04\n",
      "Epoch 2/150\n",
      "451/451 [==============================] - 112s 250ms/step - loss: 1.6444 - accuracy: 0.3551 - val_loss: 1.5361 - val_accuracy: 0.4150 - lr: 1.0000e-04\n",
      "Epoch 3/150\n",
      "451/451 [==============================] - 78s 172ms/step - loss: 1.5222 - accuracy: 0.4121 - val_loss: 1.4608 - val_accuracy: 0.4410 - lr: 1.0000e-04\n",
      "Epoch 4/150\n",
      "451/451 [==============================] - 99s 219ms/step - loss: 1.4410 - accuracy: 0.4481 - val_loss: 1.3856 - val_accuracy: 0.4768 - lr: 1.0000e-04\n",
      "Epoch 5/150\n",
      "451/451 [==============================] - 101s 223ms/step - loss: 1.3767 - accuracy: 0.4765 - val_loss: 1.3364 - val_accuracy: 0.4908 - lr: 1.0000e-04\n",
      "Epoch 6/150\n",
      "451/451 [==============================] - 122s 271ms/step - loss: 1.3309 - accuracy: 0.4958 - val_loss: 1.3033 - val_accuracy: 0.5084 - lr: 1.0000e-04\n",
      "Epoch 7/150\n",
      "451/451 [==============================] - 128s 284ms/step - loss: 1.2903 - accuracy: 0.5122 - val_loss: 1.2584 - val_accuracy: 0.5267 - lr: 9.9999e-05\n",
      "Epoch 8/150\n",
      "451/451 [==============================] - 125s 277ms/step - loss: 1.2512 - accuracy: 0.5290 - val_loss: 1.2325 - val_accuracy: 0.5334 - lr: 9.9999e-05\n",
      "Epoch 9/150\n",
      "451/451 [==============================] - 126s 279ms/step - loss: 1.2221 - accuracy: 0.5372 - val_loss: 1.2046 - val_accuracy: 0.5415 - lr: 9.9999e-05\n",
      "Epoch 10/150\n",
      "451/451 [==============================] - 123s 274ms/step - loss: 1.1933 - accuracy: 0.5499 - val_loss: 1.1788 - val_accuracy: 0.5554 - lr: 9.9999e-05\n",
      "Epoch 11/150\n",
      "451/451 [==============================] - 120s 266ms/step - loss: 1.1654 - accuracy: 0.5630 - val_loss: 1.1763 - val_accuracy: 0.5604 - lr: 9.9999e-05\n",
      "Epoch 12/150\n",
      "451/451 [==============================] - 113s 251ms/step - loss: 1.1392 - accuracy: 0.5747 - val_loss: 1.1551 - val_accuracy: 0.5740 - lr: 9.9999e-05\n",
      "Epoch 13/150\n",
      "451/451 [==============================] - 83s 184ms/step - loss: 1.1152 - accuracy: 0.5824 - val_loss: 1.1295 - val_accuracy: 0.5821 - lr: 9.9999e-05\n",
      "Epoch 14/150\n",
      "451/451 [==============================] - 82s 181ms/step - loss: 1.0949 - accuracy: 0.5912 - val_loss: 1.1174 - val_accuracy: 0.5841 - lr: 9.9999e-05\n",
      "Epoch 15/150\n",
      "451/451 [==============================] - 83s 185ms/step - loss: 1.0714 - accuracy: 0.5996 - val_loss: 1.1135 - val_accuracy: 0.5888 - lr: 9.9999e-05\n",
      "Epoch 16/150\n",
      "451/451 [==============================] - 82s 181ms/step - loss: 1.0509 - accuracy: 0.6088 - val_loss: 1.1182 - val_accuracy: 0.5835 - lr: 9.9998e-05\n",
      "Epoch 17/150\n",
      "451/451 [==============================] - 84s 187ms/step - loss: 1.0318 - accuracy: 0.6180 - val_loss: 1.0851 - val_accuracy: 0.6005 - lr: 9.9998e-05\n",
      "Epoch 18/150\n",
      "451/451 [==============================] - 83s 185ms/step - loss: 1.0078 - accuracy: 0.6249 - val_loss: 1.0864 - val_accuracy: 0.5943 - lr: 9.9998e-05\n",
      "Epoch 19/150\n",
      "451/451 [==============================] - 107s 238ms/step - loss: 0.9885 - accuracy: 0.6311 - val_loss: 1.0787 - val_accuracy: 0.6034 - lr: 9.9998e-05\n",
      "Epoch 20/150\n",
      "451/451 [==============================] - 110s 244ms/step - loss: 0.9704 - accuracy: 0.6359 - val_loss: 1.0719 - val_accuracy: 0.6083 - lr: 9.9998e-05\n",
      "Epoch 21/150\n",
      "451/451 [==============================] - 80s 178ms/step - loss: 0.9443 - accuracy: 0.6504 - val_loss: 1.0679 - val_accuracy: 0.6107 - lr: 9.9998e-05\n",
      "Epoch 22/150\n",
      "451/451 [==============================] - 79s 175ms/step - loss: 0.9228 - accuracy: 0.6578 - val_loss: 1.0649 - val_accuracy: 0.6114 - lr: 9.9998e-05\n",
      "Epoch 23/150\n",
      "451/451 [==============================] - 79s 175ms/step - loss: 0.9010 - accuracy: 0.6653 - val_loss: 1.0570 - val_accuracy: 0.6115 - lr: 9.9998e-05\n",
      "Epoch 24/150\n",
      "451/451 [==============================] - 82s 182ms/step - loss: 0.8876 - accuracy: 0.6727 - val_loss: 1.0578 - val_accuracy: 0.6169 - lr: 9.9998e-05\n",
      "Epoch 25/150\n",
      "451/451 [==============================] - 80s 178ms/step - loss: 0.8619 - accuracy: 0.6818 - val_loss: 1.0511 - val_accuracy: 0.6167 - lr: 9.9998e-05\n",
      "Epoch 26/150\n",
      "451/451 [==============================] - 81s 179ms/step - loss: 0.8408 - accuracy: 0.6906 - val_loss: 1.0550 - val_accuracy: 0.6212 - lr: 9.9998e-05\n",
      "Epoch 27/150\n",
      "451/451 [==============================] - 82s 183ms/step - loss: 0.8235 - accuracy: 0.6942 - val_loss: 1.0471 - val_accuracy: 0.6206 - lr: 9.9997e-05\n",
      "Epoch 28/150\n",
      "451/451 [==============================] - 81s 180ms/step - loss: 0.8032 - accuracy: 0.7082 - val_loss: 1.0480 - val_accuracy: 0.6191 - lr: 9.9997e-05\n",
      "Epoch 29/150\n",
      "451/451 [==============================] - 84s 186ms/step - loss: 0.7814 - accuracy: 0.7142 - val_loss: 1.0578 - val_accuracy: 0.6189 - lr: 9.9997e-05\n",
      "Epoch 30/150\n",
      "451/451 [==============================] - 82s 181ms/step - loss: 0.7622 - accuracy: 0.7218 - val_loss: 1.0506 - val_accuracy: 0.6222 - lr: 9.9997e-05\n",
      "Epoch 31/150\n",
      "451/451 [==============================] - 81s 180ms/step - loss: 0.7421 - accuracy: 0.7284 - val_loss: 1.0529 - val_accuracy: 0.6249 - lr: 9.9997e-05\n",
      "Epoch 32/150\n",
      "451/451 [==============================] - 82s 181ms/step - loss: 0.7239 - accuracy: 0.7362 - val_loss: 1.0474 - val_accuracy: 0.6248 - lr: 9.9997e-05\n",
      "Epoch 33/150\n",
      "451/451 [==============================] - 82s 181ms/step - loss: 0.7055 - accuracy: 0.7452 - val_loss: 1.0400 - val_accuracy: 0.6253 - lr: 9.9997e-05\n",
      "Epoch 34/150\n",
      "451/451 [==============================] - 83s 184ms/step - loss: 0.6777 - accuracy: 0.7543 - val_loss: 1.0570 - val_accuracy: 0.6279 - lr: 9.9997e-05\n",
      "Epoch 35/150\n",
      "451/451 [==============================] - 83s 185ms/step - loss: 0.6627 - accuracy: 0.7590 - val_loss: 1.0553 - val_accuracy: 0.6311 - lr: 9.9997e-05\n",
      "Epoch 36/150\n",
      "451/451 [==============================] - 80s 178ms/step - loss: 0.6388 - accuracy: 0.7678 - val_loss: 1.0457 - val_accuracy: 0.6275 - lr: 9.9996e-05\n",
      "Epoch 37/150\n",
      "451/451 [==============================] - 80s 178ms/step - loss: 0.6276 - accuracy: 0.7704 - val_loss: 1.0597 - val_accuracy: 0.6303 - lr: 9.9996e-05\n",
      "Epoch 38/150\n",
      "451/451 [==============================] - 81s 179ms/step - loss: 0.6096 - accuracy: 0.7789 - val_loss: 1.0535 - val_accuracy: 0.6303 - lr: 9.9996e-05\n",
      "Epoch 39/150\n",
      "451/451 [==============================] - 79s 176ms/step - loss: 0.5894 - accuracy: 0.7860 - val_loss: 1.0630 - val_accuracy: 0.6337 - lr: 9.9996e-05\n",
      "Epoch 40/150\n",
      "451/451 [==============================] - 80s 178ms/step - loss: 0.5676 - accuracy: 0.7939 - val_loss: 1.0590 - val_accuracy: 0.6290 - lr: 9.9996e-05\n",
      "Epoch 41/150\n",
      "451/451 [==============================] - 83s 184ms/step - loss: 0.5563 - accuracy: 0.7971 - val_loss: 1.0759 - val_accuracy: 0.6286 - lr: 9.9996e-05\n",
      "Epoch 42/150\n",
      "451/451 [==============================] - 85s 188ms/step - loss: 0.5343 - accuracy: 0.8066 - val_loss: 1.0978 - val_accuracy: 0.6329 - lr: 9.9996e-05\n",
      "Epoch 43/150\n",
      "451/451 [==============================] - 84s 186ms/step - loss: 0.5229 - accuracy: 0.8113 - val_loss: 1.0908 - val_accuracy: 0.6358 - lr: 9.9996e-05\n",
      "Epoch 44/150\n",
      "451/451 [==============================] - 83s 183ms/step - loss: 0.5024 - accuracy: 0.8186 - val_loss: 1.0825 - val_accuracy: 0.6390 - lr: 9.9996e-05\n",
      "Epoch 45/150\n",
      "451/451 [==============================] - 81s 180ms/step - loss: 0.4876 - accuracy: 0.8230 - val_loss: 1.0945 - val_accuracy: 0.6329 - lr: 9.9996e-05\n",
      "Epoch 46/150\n",
      "451/451 [==============================] - 80s 178ms/step - loss: 0.4775 - accuracy: 0.8264 - val_loss: 1.0982 - val_accuracy: 0.6348 - lr: 9.9996e-05\n",
      "Epoch 47/150\n",
      "451/451 [==============================] - 80s 178ms/step - loss: 0.4624 - accuracy: 0.8334 - val_loss: 1.1049 - val_accuracy: 0.6338 - lr: 9.9995e-05\n",
      "Epoch 48/150\n",
      "451/451 [==============================] - 81s 179ms/step - loss: 0.4485 - accuracy: 0.8377 - val_loss: 1.1091 - val_accuracy: 0.6323 - lr: 9.9995e-05\n",
      "Epoch 49/150\n",
      "451/451 [==============================] - 81s 179ms/step - loss: 0.4372 - accuracy: 0.8425 - val_loss: 1.1262 - val_accuracy: 0.6319 - lr: 9.9995e-05\n",
      "Epoch 50/150\n",
      "451/451 [==============================] - 80s 177ms/step - loss: 0.4185 - accuracy: 0.8494 - val_loss: 1.1435 - val_accuracy: 0.6381 - lr: 9.9995e-05\n"
     ]
    },
    {
     "name": "stdout",
     "output_type": "stream",
     "text": [
      "Epoch 51/150\n",
      "451/451 [==============================] - 81s 180ms/step - loss: 0.4132 - accuracy: 0.8518 - val_loss: 1.1538 - val_accuracy: 0.6361 - lr: 9.9995e-05\n",
      "Epoch 52/150\n",
      "451/451 [==============================] - 83s 184ms/step - loss: 0.4004 - accuracy: 0.8551 - val_loss: 1.1718 - val_accuracy: 0.6293 - lr: 9.9995e-05\n",
      "Epoch 53/150\n",
      "451/451 [==============================] - 82s 182ms/step - loss: 0.3849 - accuracy: 0.8608 - val_loss: 1.1480 - val_accuracy: 0.6353 - lr: 9.9995e-05\n",
      "Epoch 54/150\n",
      "451/451 [==============================] - 78s 172ms/step - loss: 0.3787 - accuracy: 0.8628 - val_loss: 1.1624 - val_accuracy: 0.6365 - lr: 9.9995e-05\n",
      "Epoch 55/150\n",
      "451/451 [==============================] - 78s 172ms/step - loss: 0.3605 - accuracy: 0.8721 - val_loss: 1.1732 - val_accuracy: 0.6360 - lr: 9.9995e-05\n",
      "Epoch 56/150\n",
      "451/451 [==============================] - 78s 172ms/step - loss: 0.3546 - accuracy: 0.8732 - val_loss: 1.1864 - val_accuracy: 0.6336 - lr: 9.9994e-05\n",
      "Epoch 57/150\n",
      "451/451 [==============================] - 78s 172ms/step - loss: 0.3412 - accuracy: 0.8759 - val_loss: 1.1999 - val_accuracy: 0.6354 - lr: 9.9994e-05\n",
      "Epoch 58/150\n",
      "451/451 [==============================] - 78s 173ms/step - loss: 0.3419 - accuracy: 0.8782 - val_loss: 1.1931 - val_accuracy: 0.6344 - lr: 9.9994e-05\n",
      "Epoch 59/150\n",
      "451/451 [==============================] - 77s 171ms/step - loss: 0.3340 - accuracy: 0.8813 - val_loss: 1.1842 - val_accuracy: 0.6407 - lr: 9.9994e-05\n",
      "Epoch 60/150\n",
      "451/451 [==============================] - 77s 172ms/step - loss: 0.3165 - accuracy: 0.8866 - val_loss: 1.2087 - val_accuracy: 0.6397 - lr: 9.9994e-05\n",
      "Epoch 61/150\n",
      "451/451 [==============================] - 78s 173ms/step - loss: 0.3155 - accuracy: 0.8858 - val_loss: 1.1967 - val_accuracy: 0.6375 - lr: 9.9994e-05\n",
      "Epoch 62/150\n",
      "451/451 [==============================] - 78s 173ms/step - loss: 0.3108 - accuracy: 0.8879 - val_loss: 1.2228 - val_accuracy: 0.6347 - lr: 9.9994e-05\n",
      "Epoch 63/150\n",
      "451/451 [==============================] - 78s 172ms/step - loss: 0.2956 - accuracy: 0.8946 - val_loss: 1.2264 - val_accuracy: 0.6361 - lr: 9.9994e-05\n",
      "Epoch 64/150\n",
      "451/451 [==============================] - 78s 172ms/step - loss: 0.2902 - accuracy: 0.8963 - val_loss: 1.2284 - val_accuracy: 0.6375 - lr: 9.9994e-05\n",
      "Epoch 65/150\n",
      "451/451 [==============================] - 78s 172ms/step - loss: 0.2880 - accuracy: 0.8978 - val_loss: 1.2412 - val_accuracy: 0.6411 - lr: 9.9994e-05\n",
      "Epoch 66/150\n",
      "451/451 [==============================] - 79s 174ms/step - loss: 0.2794 - accuracy: 0.9015 - val_loss: 1.2369 - val_accuracy: 0.6365 - lr: 9.9994e-05\n",
      "Epoch 67/150\n",
      "451/451 [==============================] - 78s 173ms/step - loss: 0.2792 - accuracy: 0.9007 - val_loss: 1.2516 - val_accuracy: 0.6374 - lr: 9.9993e-05\n",
      "Epoch 68/150\n",
      "451/451 [==============================] - 78s 173ms/step - loss: 0.2686 - accuracy: 0.9026 - val_loss: 1.2639 - val_accuracy: 0.6394 - lr: 9.9993e-05\n",
      "Epoch 69/150\n",
      "451/451 [==============================] - 78s 173ms/step - loss: 0.2608 - accuracy: 0.9106 - val_loss: 1.2565 - val_accuracy: 0.6375 - lr: 9.9993e-05\n",
      "Epoch 70/150\n",
      "451/451 [==============================] - 78s 174ms/step - loss: 0.2526 - accuracy: 0.9091 - val_loss: 1.2838 - val_accuracy: 0.6360 - lr: 9.9993e-05\n",
      "Epoch 71/150\n",
      "451/451 [==============================] - 78s 173ms/step - loss: 0.2476 - accuracy: 0.9116 - val_loss: 1.3094 - val_accuracy: 0.6361 - lr: 9.9993e-05\n",
      "Epoch 72/150\n",
      "451/451 [==============================] - 77s 172ms/step - loss: 0.2448 - accuracy: 0.9117 - val_loss: 1.2956 - val_accuracy: 0.6380 - lr: 9.9993e-05\n",
      "Epoch 73/150\n",
      "451/451 [==============================] - 77s 172ms/step - loss: 0.2381 - accuracy: 0.9163 - val_loss: 1.2805 - val_accuracy: 0.6400 - lr: 9.9993e-05\n",
      "Epoch 74/150\n",
      "451/451 [==============================] - 78s 172ms/step - loss: 0.2363 - accuracy: 0.9164 - val_loss: 1.3126 - val_accuracy: 0.6363 - lr: 9.9993e-05\n",
      "Epoch 75/150\n",
      "451/451 [==============================] - 78s 173ms/step - loss: 0.2320 - accuracy: 0.9178 - val_loss: 1.3035 - val_accuracy: 0.6388 - lr: 9.9993e-05\n",
      "Epoch 76/150\n",
      "451/451 [==============================] - 78s 172ms/step - loss: 0.2279 - accuracy: 0.9192 - val_loss: 1.2963 - val_accuracy: 0.6327 - lr: 9.9993e-05\n",
      "Epoch 77/150\n",
      "451/451 [==============================] - 78s 173ms/step - loss: 0.2153 - accuracy: 0.9237 - val_loss: 1.3454 - val_accuracy: 0.6340 - lr: 9.9992e-05\n",
      "Epoch 78/150\n",
      "451/451 [==============================] - 78s 172ms/step - loss: 0.2200 - accuracy: 0.9230 - val_loss: 1.3113 - val_accuracy: 0.6324 - lr: 9.9992e-05\n",
      "Epoch 79/150\n",
      "451/451 [==============================] - 78s 173ms/step - loss: 0.2155 - accuracy: 0.9231 - val_loss: 1.3487 - val_accuracy: 0.6363 - lr: 9.9992e-05\n",
      "Epoch 80/150\n",
      "451/451 [==============================] - 78s 173ms/step - loss: 0.2106 - accuracy: 0.9267 - val_loss: 1.3477 - val_accuracy: 0.6371 - lr: 9.9992e-05\n",
      "Epoch 81/150\n",
      "451/451 [==============================] - 78s 173ms/step - loss: 0.2066 - accuracy: 0.9273 - val_loss: 1.3771 - val_accuracy: 0.6400 - lr: 9.9992e-05\n",
      "Epoch 82/150\n",
      "451/451 [==============================] - 78s 174ms/step - loss: 0.2029 - accuracy: 0.9310 - val_loss: 1.3606 - val_accuracy: 0.6402 - lr: 9.9992e-05\n",
      "Epoch 83/150\n",
      "451/451 [==============================] - 77s 171ms/step - loss: 0.2021 - accuracy: 0.9270 - val_loss: 1.3808 - val_accuracy: 0.6371 - lr: 9.9992e-05\n",
      "Epoch 84/150\n",
      "451/451 [==============================] - 78s 173ms/step - loss: 0.1934 - accuracy: 0.9322 - val_loss: 1.3991 - val_accuracy: 0.6373 - lr: 9.9992e-05\n",
      "Epoch 85/150\n",
      "451/451 [==============================] - 77s 171ms/step - loss: 0.1932 - accuracy: 0.9316 - val_loss: 1.4012 - val_accuracy: 0.6392 - lr: 9.9992e-05\n",
      "Epoch 86/150\n",
      "451/451 [==============================] - 77s 171ms/step - loss: 0.1974 - accuracy: 0.9296 - val_loss: 1.3707 - val_accuracy: 0.6411 - lr: 9.9991e-05\n",
      "Epoch 87/150\n",
      "451/451 [==============================] - 77s 171ms/step - loss: 0.1798 - accuracy: 0.9358 - val_loss: 1.4083 - val_accuracy: 0.6377 - lr: 9.9991e-05\n",
      "Epoch 88/150\n",
      "451/451 [==============================] - 77s 171ms/step - loss: 0.1859 - accuracy: 0.9358 - val_loss: 1.3992 - val_accuracy: 0.6343 - lr: 9.9991e-05\n",
      "Epoch 89/150\n",
      "451/451 [==============================] - 78s 172ms/step - loss: 0.1814 - accuracy: 0.9347 - val_loss: 1.4283 - val_accuracy: 0.6381 - lr: 9.9991e-05\n",
      "Epoch 90/150\n",
      "451/451 [==============================] - 77s 171ms/step - loss: 0.1761 - accuracy: 0.9372 - val_loss: 1.4248 - val_accuracy: 0.6354 - lr: 9.9991e-05\n",
      "Epoch 91/150\n",
      "451/451 [==============================] - 78s 172ms/step - loss: 0.1728 - accuracy: 0.9398 - val_loss: 1.4131 - val_accuracy: 0.6388 - lr: 9.9991e-05\n",
      "Epoch 92/150\n",
      "451/451 [==============================] - 114s 253ms/step - loss: 0.1761 - accuracy: 0.9368 - val_loss: 1.4372 - val_accuracy: 0.6387 - lr: 9.9991e-05\n",
      "Epoch 93/150\n",
      "451/451 [==============================] - 118s 262ms/step - loss: 0.1752 - accuracy: 0.9383 - val_loss: 1.3836 - val_accuracy: 0.6327 - lr: 9.9991e-05\n",
      "Epoch 94/150\n",
      "451/451 [==============================] - 118s 262ms/step - loss: 0.1687 - accuracy: 0.9402 - val_loss: 1.4080 - val_accuracy: 0.6375 - lr: 9.9991e-05\n",
      "Epoch 95/150\n",
      "451/451 [==============================] - 117s 260ms/step - loss: 0.1704 - accuracy: 0.9404 - val_loss: 1.4313 - val_accuracy: 0.6344 - lr: 9.9991e-05\n",
      "Epoch 96/150\n",
      "451/451 [==============================] - 118s 262ms/step - loss: 0.1719 - accuracy: 0.9390 - val_loss: 1.3970 - val_accuracy: 0.6400 - lr: 9.9991e-05\n",
      "Epoch 97/150\n",
      "451/451 [==============================] - 118s 261ms/step - loss: 0.1682 - accuracy: 0.9420 - val_loss: 1.4260 - val_accuracy: 0.6365 - lr: 9.9990e-05\n",
      "Epoch 98/150\n",
      "451/451 [==============================] - 118s 261ms/step - loss: 0.1645 - accuracy: 0.9418 - val_loss: 1.4146 - val_accuracy: 0.6404 - lr: 9.9990e-05\n",
      "Epoch 99/150\n",
      "451/451 [==============================] - 118s 262ms/step - loss: 0.1595 - accuracy: 0.9438 - val_loss: 1.4136 - val_accuracy: 0.6377 - lr: 9.9990e-05\n",
      "Epoch 100/150\n",
      "451/451 [==============================] - 117s 260ms/step - loss: 0.1619 - accuracy: 0.9427 - val_loss: 1.4693 - val_accuracy: 0.6358 - lr: 9.9990e-05\n"
     ]
    },
    {
     "name": "stdout",
     "output_type": "stream",
     "text": [
      "Epoch 101/150\n",
      "451/451 [==============================] - 117s 259ms/step - loss: 0.1527 - accuracy: 0.9462 - val_loss: 1.4379 - val_accuracy: 0.6428 - lr: 9.9990e-05\n",
      "Epoch 102/150\n",
      "451/451 [==============================] - 117s 260ms/step - loss: 0.1511 - accuracy: 0.9466 - val_loss: 1.4516 - val_accuracy: 0.6367 - lr: 9.9990e-05\n",
      "Epoch 103/150\n",
      "451/451 [==============================] - 117s 260ms/step - loss: 0.1546 - accuracy: 0.9447 - val_loss: 1.4295 - val_accuracy: 0.6333 - lr: 9.9990e-05\n",
      "Epoch 104/150\n",
      "451/451 [==============================] - 118s 261ms/step - loss: 0.1467 - accuracy: 0.9491 - val_loss: 1.4594 - val_accuracy: 0.6341 - lr: 9.9990e-05\n",
      "Epoch 105/150\n",
      "451/451 [==============================] - 118s 262ms/step - loss: 0.1426 - accuracy: 0.9498 - val_loss: 1.4851 - val_accuracy: 0.6446 - lr: 9.9990e-05\n",
      "Epoch 106/150\n",
      "451/451 [==============================] - 118s 263ms/step - loss: 0.1521 - accuracy: 0.9479 - val_loss: 1.4559 - val_accuracy: 0.6461 - lr: 9.9989e-05\n",
      "Epoch 107/150\n",
      "451/451 [==============================] - 119s 265ms/step - loss: 0.1491 - accuracy: 0.9478 - val_loss: 1.4537 - val_accuracy: 0.6412 - lr: 9.9989e-05\n",
      "Epoch 108/150\n",
      "451/451 [==============================] - 120s 267ms/step - loss: 0.1439 - accuracy: 0.9488 - val_loss: 1.4976 - val_accuracy: 0.6344 - lr: 9.9989e-05\n",
      "Epoch 109/150\n",
      "451/451 [==============================] - 124s 274ms/step - loss: 0.1353 - accuracy: 0.9527 - val_loss: 1.5205 - val_accuracy: 0.6351 - lr: 9.9989e-05\n",
      "Epoch 110/150\n",
      "451/451 [==============================] - 118s 261ms/step - loss: 0.1419 - accuracy: 0.9507 - val_loss: 1.4834 - val_accuracy: 0.6316 - lr: 9.9989e-05\n",
      "Epoch 111/150\n",
      "451/451 [==============================] - 117s 260ms/step - loss: 0.1442 - accuracy: 0.9496 - val_loss: 1.4652 - val_accuracy: 0.6370 - lr: 9.9989e-05\n",
      "Epoch 112/150\n",
      "451/451 [==============================] - 118s 261ms/step - loss: 0.1448 - accuracy: 0.9499 - val_loss: 1.5131 - val_accuracy: 0.6385 - lr: 9.9989e-05\n",
      "Epoch 113/150\n",
      "451/451 [==============================] - 123s 272ms/step - loss: 0.1404 - accuracy: 0.9520 - val_loss: 1.4763 - val_accuracy: 0.6370 - lr: 9.9989e-05\n",
      "Epoch 114/150\n",
      "451/451 [==============================] - 124s 275ms/step - loss: 0.1338 - accuracy: 0.9538 - val_loss: 1.4741 - val_accuracy: 0.6377 - lr: 9.9989e-05\n",
      "Epoch 115/150\n",
      "451/451 [==============================] - 125s 277ms/step - loss: 0.1333 - accuracy: 0.9536 - val_loss: 1.5127 - val_accuracy: 0.6390 - lr: 9.9989e-05\n",
      "Epoch 116/150\n",
      "451/451 [==============================] - 127s 281ms/step - loss: 0.1289 - accuracy: 0.9552 - val_loss: 1.5480 - val_accuracy: 0.6358 - lr: 9.9989e-05\n",
      "Epoch 117/150\n",
      "451/451 [==============================] - 121s 269ms/step - loss: 0.1309 - accuracy: 0.9541 - val_loss: 1.5472 - val_accuracy: 0.6429 - lr: 9.9988e-05\n",
      "Epoch 118/150\n",
      "451/451 [==============================] - 119s 263ms/step - loss: 0.1288 - accuracy: 0.9541 - val_loss: 1.5434 - val_accuracy: 0.6373 - lr: 9.9988e-05\n",
      "Epoch 119/150\n",
      "451/451 [==============================] - 122s 271ms/step - loss: 0.1295 - accuracy: 0.9556 - val_loss: 1.5277 - val_accuracy: 0.6341 - lr: 9.9988e-05\n",
      "Epoch 120/150\n",
      "451/451 [==============================] - 124s 275ms/step - loss: 0.1304 - accuracy: 0.9544 - val_loss: 1.5645 - val_accuracy: 0.6365 - lr: 9.9988e-05\n",
      "Epoch 121/150\n",
      "451/451 [==============================] - 125s 277ms/step - loss: 0.1273 - accuracy: 0.9559 - val_loss: 1.5695 - val_accuracy: 0.6340 - lr: 9.9988e-05\n",
      "Epoch 122/150\n",
      "451/451 [==============================] - 122s 270ms/step - loss: 0.1220 - accuracy: 0.9565 - val_loss: 1.5316 - val_accuracy: 0.6370 - lr: 9.9988e-05\n",
      "Epoch 123/150\n",
      "451/451 [==============================] - 80s 177ms/step - loss: 0.1206 - accuracy: 0.9588 - val_loss: 1.5808 - val_accuracy: 0.6338 - lr: 9.9988e-05\n",
      "Epoch 124/150\n",
      "451/451 [==============================] - 80s 178ms/step - loss: 0.1237 - accuracy: 0.9568 - val_loss: 1.5651 - val_accuracy: 0.6336 - lr: 9.9988e-05\n",
      "Epoch 125/150\n",
      "451/451 [==============================] - 82s 182ms/step - loss: 0.1277 - accuracy: 0.9580 - val_loss: 1.5770 - val_accuracy: 0.6327 - lr: 9.9988e-05\n",
      "Epoch 126/150\n",
      "451/451 [==============================] - 80s 178ms/step - loss: 0.1210 - accuracy: 0.9576 - val_loss: 1.5507 - val_accuracy: 0.6390 - lr: 9.9988e-05\n",
      "Epoch 127/150\n",
      "451/451 [==============================] - 82s 183ms/step - loss: 0.1210 - accuracy: 0.9582 - val_loss: 1.5864 - val_accuracy: 0.6344 - lr: 9.9987e-05\n",
      "Epoch 128/150\n",
      "451/451 [==============================] - 80s 177ms/step - loss: 0.1187 - accuracy: 0.9576 - val_loss: 1.5603 - val_accuracy: 0.6327 - lr: 9.9987e-05\n",
      "Epoch 129/150\n",
      "451/451 [==============================] - 79s 176ms/step - loss: 0.1165 - accuracy: 0.9615 - val_loss: 1.5839 - val_accuracy: 0.6337 - lr: 9.9987e-05\n",
      "Epoch 130/150\n",
      "451/451 [==============================] - 79s 175ms/step - loss: 0.1167 - accuracy: 0.9593 - val_loss: 1.5694 - val_accuracy: 0.6354 - lr: 9.9987e-05\n",
      "Epoch 131/150\n",
      "451/451 [==============================] - 79s 176ms/step - loss: 0.1178 - accuracy: 0.9588 - val_loss: 1.5362 - val_accuracy: 0.6337 - lr: 9.9987e-05\n",
      "Epoch 132/150\n",
      "451/451 [==============================] - 79s 176ms/step - loss: 0.1173 - accuracy: 0.9603 - val_loss: 1.5733 - val_accuracy: 0.6401 - lr: 9.9987e-05\n",
      "Epoch 133/150\n",
      "451/451 [==============================] - 79s 176ms/step - loss: 0.1140 - accuracy: 0.9628 - val_loss: 1.5803 - val_accuracy: 0.6358 - lr: 9.9987e-05\n",
      "Epoch 134/150\n",
      "451/451 [==============================] - 79s 176ms/step - loss: 0.1172 - accuracy: 0.9586 - val_loss: 1.5415 - val_accuracy: 0.6358 - lr: 9.9987e-05\n",
      "Epoch 135/150\n",
      "451/451 [==============================] - 79s 176ms/step - loss: 0.1119 - accuracy: 0.9619 - val_loss: 1.6082 - val_accuracy: 0.6384 - lr: 9.9987e-05\n",
      "Epoch 136/150\n",
      "451/451 [==============================] - 80s 176ms/step - loss: 0.1105 - accuracy: 0.9624 - val_loss: 1.5958 - val_accuracy: 0.6364 - lr: 9.9987e-05\n",
      "Epoch 137/150\n",
      "451/451 [==============================] - 80s 177ms/step - loss: 0.1161 - accuracy: 0.9584 - val_loss: 1.5835 - val_accuracy: 0.6346 - lr: 9.9986e-05\n",
      "Epoch 138/150\n",
      "451/451 [==============================] - 79s 176ms/step - loss: 0.1109 - accuracy: 0.9610 - val_loss: 1.6030 - val_accuracy: 0.6344 - lr: 9.9986e-05\n",
      "Epoch 139/150\n",
      "451/451 [==============================] - 80s 177ms/step - loss: 0.1146 - accuracy: 0.9602 - val_loss: 1.6057 - val_accuracy: 0.6348 - lr: 9.9986e-05\n",
      "Epoch 140/150\n",
      "451/451 [==============================] - 82s 182ms/step - loss: 0.1089 - accuracy: 0.9625 - val_loss: 1.5687 - val_accuracy: 0.6326 - lr: 9.9986e-05\n",
      "Epoch 141/150\n",
      "451/451 [==============================] - 79s 176ms/step - loss: 0.1075 - accuracy: 0.9634 - val_loss: 1.6214 - val_accuracy: 0.6374 - lr: 9.9986e-05\n",
      "Epoch 142/150\n",
      "451/451 [==============================] - 79s 176ms/step - loss: 0.1062 - accuracy: 0.9628 - val_loss: 1.6515 - val_accuracy: 0.6365 - lr: 9.9986e-05\n",
      "Epoch 143/150\n",
      "451/451 [==============================] - 80s 177ms/step - loss: 0.1075 - accuracy: 0.9633 - val_loss: 1.6147 - val_accuracy: 0.6384 - lr: 9.9986e-05\n",
      "Epoch 144/150\n",
      "451/451 [==============================] - 79s 176ms/step - loss: 0.1005 - accuracy: 0.9658 - val_loss: 1.6373 - val_accuracy: 0.6341 - lr: 9.9986e-05\n",
      "Epoch 145/150\n",
      "451/451 [==============================] - 80s 177ms/step - loss: 0.1059 - accuracy: 0.9639 - val_loss: 1.6250 - val_accuracy: 0.6348 - lr: 9.9986e-05\n",
      "Epoch 146/150\n",
      "451/451 [==============================] - 79s 175ms/step - loss: 0.1067 - accuracy: 0.9635 - val_loss: 1.6263 - val_accuracy: 0.6370 - lr: 9.9986e-05\n",
      "Epoch 147/150\n",
      "451/451 [==============================] - 80s 177ms/step - loss: 0.1015 - accuracy: 0.9651 - val_loss: 1.6081 - val_accuracy: 0.6367 - lr: 9.9985e-05\n",
      "Epoch 148/150\n",
      "451/451 [==============================] - 81s 179ms/step - loss: 0.1053 - accuracy: 0.9645 - val_loss: 1.6463 - val_accuracy: 0.6347 - lr: 9.9985e-05\n",
      "Epoch 149/150\n",
      "451/451 [==============================] - 80s 177ms/step - loss: 0.1062 - accuracy: 0.9641 - val_loss: 1.6315 - val_accuracy: 0.6371 - lr: 9.9985e-05\n",
      "Epoch 150/150\n",
      "451/451 [==============================] - 81s 179ms/step - loss: 0.0979 - accuracy: 0.9652 - val_loss: 1.6398 - val_accuracy: 0.6400 - lr: 9.9985e-05\n"
     ]
    },
    {
     "data": {
      "text/plain": [
       "<keras.src.callbacks.History at 0x27127941fc0>"
      ]
     },
     "execution_count": 20,
     "metadata": {},
     "output_type": "execute_result"
    }
   ],
   "source": [
    "model = keras.Sequential()\n",
    "\n",
    "# Convolutional layers\n",
    "model.add(Conv2D(32, (3, 3), activation='relu', input_shape=(48,48,1)))\n",
    "model.add(Conv2D(64, (3, 3), activation='relu'))\n",
    "model.add(MaxPooling2D(pool_size=(2,2)))\n",
    "model.add(Dropout(0.25))\n",
    "\n",
    "model.add(Conv2D(128, (3, 3), activation='relu'))\n",
    "model.add(MaxPooling2D(pool_size=(2,2)))\n",
    "model.add(Conv2D(128, (3, 3), activation='relu'))\n",
    "model.add(MaxPooling2D(pool_size=(2,2)))\n",
    "model.add(Dropout(0.25))\n",
    "\n",
    "# Flatten the feature maps\n",
    "model.add(Flatten())\n",
    "\n",
    "# Fully connected layers\n",
    "model.add(Dense(1024, activation='relu'))\n",
    "model.add(Dropout(0.5))  # Optional dropout layer for regularization\n",
    "\n",
    "# Output layer for 7 mood classes (adjust the number of units accordingly)\n",
    "model.add(Dense(7, activation='softmax'))\n",
    "\n",
    "# Compile the model\n",
    "def lr_schedule(epoch):\n",
    "    initial_lr = 0.0001\n",
    "    decay = 1e-6\n",
    "    lr = initial_lr * (1 / (1 + decay * epoch))\n",
    "    return lr\n",
    "lr_scheduler = LearningRateScheduler(lr_schedule)\n",
    "\n",
    "model.compile(optimizer=Adam(learning_rate=0.0001), loss='categorical_crossentropy', metrics=['accuracy'])\n",
    "\n",
    "# Train the model (You should one-hot encode the target labels for categorical_crossentropy)\n",
    "# You can use X_train, y_train, and X_test, y_test from the train-test split\n",
    "# Make sure your data is properly preprocessed and scaled\n",
    "\n",
    "model.fit(x_train, y_train, epochs=150, batch_size=64,callbacks=[lr_scheduler], validation_data=(x_test, y_test))\n"
   ]
  },
  {
   "cell_type": "code",
   "execution_count": 21,
   "id": "50f9fd2c",
   "metadata": {},
   "outputs": [],
   "source": [
    "# model = keras.Sequential()\n",
    "\n",
    "# # Convolutional layers\n",
    "# model.add(Conv2D(32, (3, 3), activation='relu', input_shape=(48,48,1)))\n",
    "# model.add(MaxPooling2D(pool_size=(2,2)))\n",
    "# model.add(Conv2D(64, (3, 3), activation='relu'))\n",
    "# model.add(MaxPooling2D(pool_size=(2,2)))\n",
    "# model.add(Conv2D(128, (3, 3), activation='relu'))\n",
    "# model.add(MaxPooling2D(pool_size=(2,2)))\n",
    "\n",
    "# # Flatten the feature maps\n",
    "# model.add(Flatten())\n",
    "\n",
    "# # Fully connected layers\n",
    "# model.add(Dense(512, activation='relu'))\n",
    "# model.add(Dropout(0.5))  # Optional dropout layer for regularization\n",
    "\n",
    "# # Output layer for 7 mood classes (adjust the number of units accordingly)\n",
    "# model.add(Dense(7, activation='softmax'))\n",
    "\n",
    "# # Compile the model\n",
    "# model.compile(optimizer='adam', loss='categorical_crossentropy', metrics=['accuracy'])\n",
    "\n",
    "# # Train the model (You should one-hot encode the target labels for categorical_crossentropy)\n",
    "# # You can use X_train, y_train, and X_test, y_test from the train-test split\n",
    "# # Make sure your data is properly preprocessed and scaled\n",
    "\n",
    "# model.fit(x_train, y_train, epochs=150, batch_size=32, validation_data=(x_test, y_test))\n"
   ]
  },
  {
   "cell_type": "code",
   "execution_count": 22,
   "id": "f92c89da",
   "metadata": {},
   "outputs": [
    {
     "name": "stderr",
     "output_type": "stream",
     "text": [
      "C:\\Users\\prajw\\anaconda3\\envs\\tf\\lib\\site-packages\\keras\\src\\engine\\training.py:3079: UserWarning: You are saving your model as an HDF5 file via `model.save()`. This file format is considered legacy. We recommend using instead the native Keras format, e.g. `model.save('my_model.keras')`.\n",
      "  saving_api.save_model(\n"
     ]
    }
   ],
   "source": [
    "# Save the training history (e.g., loss and accuracy)\n",
    "with open('model_and_its_detail/training_history.pkl', 'wb') as history_file:\n",
    "    pickle.dump(model.history.history, history_file)\n",
    "    \n",
    "with open('model_and_its_detail/cnn_model.pkl', 'wb') as model_file:\n",
    "    pickle.dump(model, model_file)\n",
    "\n",
    "# Save the model architecture as JSON    \n",
    "model_json = model.to_json()\n",
    "with open('model_and_its_detail/model_architecture.json', 'w') as json_file:\n",
    "    json_file.write(model_json)\n",
    "    \n",
    "# Save model summary to a text file\n",
    "with open('model_and_its_detail/model_summary.txt', 'w') as summary_file:\n",
    "    model.summary(print_fn=lambda x: summary_file.write(x + '\\n'))\n",
    "    \n",
    "    \n",
    "# Optionally, save the entire model (architecture and weights)\n",
    "model.save('model_and_its_detail/complete_model.h5')\n",
    "\n",
    "# Optionally, save the model's final weights\n",
    "model.save_weights('model_and_its_detail/final_model_weights.h5')"
   ]
  },
  {
   "cell_type": "code",
   "execution_count": 23,
   "id": "203443f5",
   "metadata": {},
   "outputs": [],
   "source": [
    "# from keras.models import Sequential\n",
    "\n",
    "# # Create a model with the same architecture as before\n",
    "# model = Sequential()\n",
    "# model.add(Dense(64, input_dim=10, activation='relu'))\n",
    "# model.add(Dense(1, activation='sigmoid'))\n",
    "\n",
    "# # Load the saved model weights\n",
    "# model.load_weights(\"final_model_weights.h5\")  # Load the best model weights\n",
    "\n",
    "# # Compile the model with the same configuration as before\n",
    "# model.compile(loss='binary_crossentropy', optimizer='adam', metrics=['accuracy'])\n"
   ]
  },
  {
   "cell_type": "code",
   "execution_count": 24,
   "id": "baa2c9f7",
   "metadata": {},
   "outputs": [],
   "source": [
    "# from keras.models import load_model\n",
    "\n",
    "# # Load the entire model\n",
    "# loaded_model = load_model(\"model and its detail/complete_model.h5\")\n",
    "# # Now, you can use the 'loaded_model' for predictions or further training"
   ]
  },
  {
   "cell_type": "code",
   "execution_count": 25,
   "id": "8db099c4",
   "metadata": {},
   "outputs": [
    {
     "data": {
      "image/png": "[encoded data removed]",
      "text/plain": [
       "<Figure size 1200x600 with 2 Axes>"
      ]
     },
     "metadata": {},
     "output_type": "display_data"
    }
   ],
   "source": [
    "import pickle\n",
    "import matplotlib.pyplot as plt\n",
    "\n",
    "# Load the training history from the pickle file\n",
    "with open('model_and_its_detail/training_history.pkl', 'rb') as history_file:\n",
    "    history = pickle.load(history_file)\n",
    "\n",
    "# Access loss and accuracy values\n",
    "loss = history['loss']\n",
    "val_loss = history['val_loss']\n",
    "accuracy = history['accuracy']\n",
    "val_accuracy = history['val_accuracy']\n",
    "\n",
    "# Plot the training history\n",
    "plt.figure(figsize=(12, 6))\n",
    "plt.subplot(1, 2, 1)\n",
    "plt.plot(loss, label='Training Loss')\n",
    "plt.plot(val_loss, label='Validation Loss')\n",
    "plt.legend()\n",
    "plt.title('Loss')\n",
    "\n",
    "plt.subplot(1, 2, 2)\n",
    "plt.plot(accuracy, label='Training Accuracy')\n",
    "plt.plot(val_accuracy, label='Validation Accuracy')\n",
    "plt.legend()\n",
    "plt.title('Accuracy')\n",
    "\n",
    "plt.show()"
   ]
  },
  {
   "cell_type": "code",
   "execution_count": 26,
   "id": "7ed968b3",
   "metadata": {},
   "outputs": [],
   "source": [
    "import cv2\n",
    "import numpy as np\n",
    "\n",
    "# Load your image\n",
    "test_image = \"8.jpg\"\n",
    "\n",
    "# Load the image with OpenCV\n",
    "img = cv2.imread(test_image, cv2.IMREAD_GRAYSCALE)\n",
    "\n",
    "# Resize the image to match your model's input size\n",
    "img = cv2.resize(img, (48, 48))\n",
    "\n",
    "# Reshape the image to match the input shape of (1, 48, 48, 1)\n",
    "img = img.reshape(1, 48, 48, 1)\n",
    "\n",
    "# Normalize the pixel values if necessary (in your case, you've divided by 255)\n",
    "img = img / 255.0"
   ]
  },
  {
   "cell_type": "code",
   "execution_count": 27,
   "id": "4c298a36",
   "metadata": {},
   "outputs": [],
   "source": [
    "# test_image = \"8.jpg\"\n",
    "# img=load_img(test_image,grayscale=True)\n",
    "# img=np.array(img)\n",
    "# img= img/255.0\n",
    "# img=img.reshape(1,48,48,1)"
   ]
  },
  {
   "cell_type": "code",
   "execution_count": 28,
   "id": "f831778a",
   "metadata": {},
   "outputs": [
    {
     "name": "stdout",
     "output_type": "stream",
     "text": [
      "1/1 [==============================] - 0s 100ms/step\n",
      "model prediction is  disgust\n"
     ]
    },
    {
     "data": {
      "text/plain": [
       "<matplotlib.image.AxesImage at 0x2718035b100>"
      ]
     },
     "execution_count": 28,
     "metadata": {},
     "output_type": "execute_result"
    },
    {
     "data": {
      "image/png": "[encoded data removed]",
      "text/plain": [
       "<Figure size 640x480 with 1 Axes>"
      ]
     },
     "metadata": {},
     "output_type": "display_data"
    }
   ],
   "source": [
    "label=['angry','disgust','fear','happy','neutral','sad','surprise']\n",
    "pred=model.predict(img)\n",
    "pred_label=label[pred.argmax()]\n",
    "print(\"model prediction is \",pred_label)\n",
    "\n",
    "reshaped_img = img.reshape(48, 48)\n",
    "plt.imshow(reshaped_img, cmap='gray')"
   ]
  },
  {
   "cell_type": "code",
   "execution_count": 29,
   "id": "fb86c114",
   "metadata": {},
   "outputs": [],
   "source": [
    "# import cv2\n",
    "# import os\n",
    "\n",
    "# # Load the pre-trained face detection model\n",
    "# face_cascade = cv2.CascadeClassifier(cv2.data.haarcascades + 'haarcascade_frontalface_default.xml')\n",
    "\n",
    "# # Load the image\n",
    "# image_path = '8.jpg'\n",
    "# img = cv2.imread(image_path)\n",
    "\n",
    "# # Convert the image to grayscale\n",
    "# gray = cv2.cvtColor(img, cv2.COLOR_BGR2GRAY)\n",
    "\n",
    "# # Detect faces in the image\n",
    "# faces = face_cascade.detectMultiScale(gray, scaleFactor=1.1, minNeighbors=5, minSize=(30, 30))\n",
    "\n",
    "# # If faces are detected, crop and save each one\n",
    "# for i, (x, y, w, h) in enumerate(faces):\n",
    "#     face = img[y:y+h, x:x+w]\n",
    "#     face_filename = f'face_{i}.jpg'\n",
    "#     cv2.imwrite(face_filename, face)\n",
    "\n",
    "#     # Display and save the cropped face\n",
    "#     cv2.imshow(f'Face {i}', face)\n",
    "\n",
    "# # Wait for a key press and then close all windows\n",
    "# cv2.waitKey(0)\n",
    "# cv2.destroyAllWindows()"
   ]
  },
  {
   "cell_type": "code",
   "execution_count": 30,
   "id": "7edbc4da",
   "metadata": {},
   "outputs": [
    {
     "name": "stdout",
     "output_type": "stream",
     "text": [
      "C:/Users/prajw/Downloads/sc.jpg\n"
     ]
    },
    {
     "ename": "error",
     "evalue": "OpenCV(4.8.1) D:\\a\\opencv-python\\opencv-python\\opencv\\modules\\imgproc\\src\\resize.cpp:4062: error: (-215:Assertion failed) !ssize.empty() in function 'cv::resize'\n",
     "output_type": "error",
     "traceback": [
      "\u001b[1;31m---------------------------------------------------------------------------\u001b[0m",
      "\u001b[1;31merror\u001b[0m                                     Traceback (most recent call last)",
      "Cell \u001b[1;32mIn[30], line 29\u001b[0m\n\u001b[0;32m     25\u001b[0m         path \u001b[38;5;241m=\u001b[39m \u001b[38;5;124mf\u001b[39m\u001b[38;5;124m\"\u001b[39m\u001b[38;5;124mC:/Users/prajw/Downloads/sc (\u001b[39m\u001b[38;5;132;01m{\u001b[39;00mi\u001b[38;5;132;01m}\u001b[39;00m\u001b[38;5;124m).jpg\u001b[39m\u001b[38;5;124m\"\u001b[39m\n\u001b[0;32m     26\u001b[0m         \u001b[38;5;28mprint\u001b[39m(path,\u001b[38;5;124m\"\u001b[39m\u001b[38;5;124m \u001b[39m\u001b[38;5;124m\"\u001b[39m,test_image)\n\u001b[1;32m---> 29\u001b[0m \u001b[43mpredict\u001b[49m\u001b[43m(\u001b[49m\u001b[43m)\u001b[49m\n",
      "Cell \u001b[1;32mIn[30], line 16\u001b[0m, in \u001b[0;36mpredict\u001b[1;34m()\u001b[0m\n\u001b[0;32m     14\u001b[0m test_image \u001b[38;5;241m=\u001b[39m path\n\u001b[0;32m     15\u001b[0m img \u001b[38;5;241m=\u001b[39m cv2\u001b[38;5;241m.\u001b[39mimread(test_image, cv2\u001b[38;5;241m.\u001b[39mIMREAD_GRAYSCALE)\n\u001b[1;32m---> 16\u001b[0m img \u001b[38;5;241m=\u001b[39m \u001b[43mcv2\u001b[49m\u001b[38;5;241;43m.\u001b[39;49m\u001b[43mresize\u001b[49m\u001b[43m(\u001b[49m\u001b[43mimg\u001b[49m\u001b[43m,\u001b[49m\u001b[43m \u001b[49m\u001b[43m(\u001b[49m\u001b[38;5;241;43m48\u001b[39;49m\u001b[43m,\u001b[49m\u001b[43m \u001b[49m\u001b[38;5;241;43m48\u001b[39;49m\u001b[43m)\u001b[49m\u001b[43m)\u001b[49m\n\u001b[0;32m     17\u001b[0m img \u001b[38;5;241m=\u001b[39m img\u001b[38;5;241m.\u001b[39mreshape(\u001b[38;5;241m1\u001b[39m, \u001b[38;5;241m48\u001b[39m, \u001b[38;5;241m48\u001b[39m, \u001b[38;5;241m1\u001b[39m)\n\u001b[0;32m     18\u001b[0m img \u001b[38;5;241m=\u001b[39m img \u001b[38;5;241m/\u001b[39m \u001b[38;5;241m255.0\u001b[39m\n",
      "\u001b[1;31merror\u001b[0m: OpenCV(4.8.1) D:\\a\\opencv-python\\opencv-python\\opencv\\modules\\imgproc\\src\\resize.cpp:4062: error: (-215:Assertion failed) !ssize.empty() in function 'cv::resize'\n"
     ]
    }
   ],
   "source": [
    "from keras.models import load_model\n",
    "import time\n",
    "\n",
    "def predict():\n",
    "    global pred_label\n",
    "    i=0\n",
    "    path =\"C:/Users/prajw/Downloads/sc.jpg\"\n",
    "    loaded_model = load_model('C:/Users/prajw/Downloads/music/model_and_its_detail/complete_model.h5')\n",
    "    print(path)\n",
    "    while(True):\n",
    "        time.sleep(12)\n",
    "        if i ==0:\n",
    "            test_image=path\n",
    "        test_image = path\n",
    "        img = cv2.imread(test_image, cv2.IMREAD_GRAYSCALE)\n",
    "        img = cv2.resize(img, (48, 48))\n",
    "        img = img.reshape(1, 48, 48, 1)\n",
    "        img = img / 255.0\n",
    "        label=['angry','disgust','fear','happy','neutral','sad','surprise']\n",
    "        pred=loaded_model.predict(img)\n",
    "        pred_label=label[pred.argmax()]\n",
    "        print(\"model prediction is \",pred_label)\n",
    "        path=path + \" (\"+str(i)+\").jpg\"        \n",
    "        i=i+1\n",
    "        path = f\"C:/Users/prajw/Downloads/sc ({i}).jpg\"\n",
    "        print(path,\" \",test_image)\n",
    "        \n",
    "\n",
    "predict()"
   ]
  },
  {
   "cell_type": "code",
   "execution_count": null,
   "id": "edacb2b2",
   "metadata": {},
   "outputs": [],
   "source": [
    "import time\n",
    "i=0\n",
    "path =\"C:/Users/prajw/Downloads/sc\"\n",
    "while(True):\n",
    "    time.sleep(12)\n",
    "    path=path + \" (\"+str(i)+\").jpg\"\n",
    "    print(path)\n",
    "    i=i+1\n"
   ]
  },
  {
   "cell_type": "code",
   "execution_count": null,
   "id": "e2fbef95",
   "metadata": {},
   "outputs": [],
   "source": []
  },
  {
   "cell_type": "code",
   "execution_count": null,
   "id": "aff04a45",
   "metadata": {},
   "outputs": [],
   "source": []
  }
 ],
 "metadata": {
  "kernelspec": {
   "display_name": "Python 3 (ipykernel)",
   "language": "python",
   "name": "python3"
  },
  "language_info": {
   "codemirror_mode": {
    "name": "ipython",
    "version": 3
   },
   "file_extension": ".py",
   "mimetype": "text/x-python",
   "name": "python",
   "nbconvert_exporter": "python",
   "pygments_lexer": "ipython3",
   "version": "3.10.9"
  }
 },
 "nbformat": 4,
 "nbformat_minor": 5
}
